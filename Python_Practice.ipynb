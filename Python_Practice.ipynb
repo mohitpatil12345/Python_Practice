{
 "cells": [
  {
   "cell_type": "code",
   "execution_count": 2,
   "id": "7762d569-c58a-433c-ac21-cae50f0e4faf",
   "metadata": {},
   "outputs": [],
   "source": [
    "x = [1,2,3,4,5,6,7,8,9,10,11,12,'hello']"
   ]
  },
  {
   "cell_type": "code",
   "execution_count": 6,
   "id": "b840aef3-a116-4240-ab42-c637767992eb",
   "metadata": {},
   "outputs": [
    {
     "data": {
      "text/plain": [
       "'hello'"
      ]
     },
     "execution_count": 6,
     "metadata": {},
     "output_type": "execute_result"
    }
   ],
   "source": [
    "x[12]"
   ]
  },
  {
   "cell_type": "code",
   "execution_count": 30,
   "id": "ed4e44d7-513e-401c-bac4-1643993606cd",
   "metadata": {},
   "outputs": [],
   "source": [
    "f = \"Hellloooo\""
   ]
  },
  {
   "cell_type": "code",
   "execution_count": 5,
   "id": "03ea6aad-ee22-46d8-8d84-b9d86f2d5fa6",
   "metadata": {},
   "outputs": [
    {
     "data": {
      "text/plain": [
       "'Hellloo'"
      ]
     },
     "execution_count": 5,
     "metadata": {},
     "output_type": "execute_result"
    }
   ],
   "source": [
    "f[0:7]"
   ]
  },
  {
   "cell_type": "code",
   "execution_count": 10,
   "id": "456d01e1-d637-42f5-a118-bd5cb0eeeb7c",
   "metadata": {},
   "outputs": [],
   "source": [
    "g = [1,2,3,4, [3,3.4]]"
   ]
  },
  {
   "cell_type": "code",
   "execution_count": 16,
   "id": "fea5a18a-8d7d-494b-aa40-75c49b62ff8a",
   "metadata": {},
   "outputs": [
    {
     "data": {
      "text/plain": [
       "[3, 3.4]"
      ]
     },
     "execution_count": 16,
     "metadata": {},
     "output_type": "execute_result"
    }
   ],
   "source": [
    "g[4]"
   ]
  },
  {
   "cell_type": "code",
   "execution_count": 28,
   "id": "a02b8afd-2eca-4781-adc2-9d9a68f1c1b7",
   "metadata": {},
   "outputs": [],
   "source": [
    "d = {'phone': 7743983616,'Name': 'Rohit'}\n",
    "\n"
   ]
  },
  {
   "cell_type": "code",
   "execution_count": 25,
   "id": "a75a9ef6-6b14-48c6-8972-80281fd783cb",
   "metadata": {},
   "outputs": [
    {
     "name": "stdout",
     "output_type": "stream",
     "text": [
      "Rohit\n"
     ]
    }
   ],
   "source": [
    "print(d['Name'])"
   ]
  },
  {
   "cell_type": "code",
   "execution_count": 26,
   "id": "dbbaefe1-9799-4f17-a8c4-d42338170c81",
   "metadata": {},
   "outputs": [
    {
     "name": "stdout",
     "output_type": "stream",
     "text": [
      "7743983616\n"
     ]
    }
   ],
   "source": [
    "print(d['phone'])"
   ]
  },
  {
   "cell_type": "code",
   "execution_count": 38,
   "id": "4d46c237-1701-4a66-aa88-474b2c583da0",
   "metadata": {},
   "outputs": [
    {
     "name": "stdout",
     "output_type": "stream",
     "text": [
      "11 is neither divisible by 2 nor by 3\n"
     ]
    }
   ],
   "source": [
    "a = 11\n",
    "if a % 2 == 0:\n",
    "    print(\"%d is divisible by 2\" %a)\n",
    "elif a % 3 == 0:\n",
    "    print(\"%d is divisible by 3\" %a)\n",
    "else:\n",
    "    print(\"%d is neither divisible by 2 nor by 3\" %a)"
   ]
  },
  {
   "cell_type": "code",
   "execution_count": 45,
   "id": "5d08a089-406f-45a6-80af-dd18481194c9",
   "metadata": {},
   "outputs": [
    {
     "name": "stdout",
     "output_type": "stream",
     "text": [
      "number to add:-  1\n",
      "number to add:-  3\n",
      "number to add:-  6\n",
      "number to add:-  10\n",
      "number to add:-  15\n",
      "number to add:-  21\n",
      "number to add:-  28\n",
      "number to add:-  36\n",
      "number to add:-  45\n",
      "45\n"
     ]
    }
   ],
   "source": [
    "total = 0\n",
    "for i in range(1,10):\n",
    "    #print(i)\n",
    "    total += i\n",
    "    print(\"number to add:- \",total)\n",
    "print(total)    "
   ]
  },
  {
   "cell_type": "code",
   "execution_count": 49,
   "id": "0627c144-323d-4dce-a23e-c15b7eae68e1",
   "metadata": {},
   "outputs": [
    {
     "name": "stdin",
     "output_type": "stream",
     "text": [
      "Enter Amount:-  1070\n"
     ]
    },
    {
     "name": "stdout",
     "output_type": "stream",
     "text": [
      "Discount 107.0\n",
      "Net Payable  963.0\n"
     ]
    }
   ],
   "source": [
    "amount = int(input(\"Enter Amount:- \"))\n",
    "if amount <= 1000:\n",
    "    discount = amount * 0.05\n",
    "    print(\"Discount\", discount)\n",
    "else:\n",
    "    discount = amount * 0.10\n",
    "    print(\"Discount\", discount)\n",
    "print(\"Net Payable \", amount - discount)    "
   ]
  },
  {
   "cell_type": "code",
   "execution_count": 1,
   "id": "855ae028-a951-4e3d-a847-a715beebee26",
   "metadata": {},
   "outputs": [
    {
     "name": "stdout",
     "output_type": "stream",
     "text": [
      "0\n",
      "1\n",
      "2\n",
      "3\n",
      "4\n",
      "5\n",
      "6\n"
     ]
    }
   ],
   "source": [
    "x = 0 \n",
    "while x <= 5:\n",
    "    print(x)\n",
    "    x += 1\n",
    "print(x)    "
   ]
  },
  {
   "cell_type": "code",
   "execution_count": 6,
   "id": "2bbd8633-a1a4-492b-8f27-8e7f59764937",
   "metadata": {},
   "outputs": [
    {
     "name": "stdout",
     "output_type": "stream",
     "text": [
      "4\n",
      "5\n",
      "6\n",
      "7\n",
      "8\n",
      "7\n",
      "6\n",
      "5\n"
     ]
    }
   ],
   "source": [
    "f = '45678765'\n",
    "\n",
    "for num in f:\n",
    "    print(num)"
   ]
  },
  {
   "cell_type": "code",
   "execution_count": 7,
   "id": "2d8d24ea-691b-48ff-bdfd-84bc6f0e16d2",
   "metadata": {},
   "outputs": [
    {
     "name": "stdout",
     "output_type": "stream",
     "text": [
      "H\n",
      "H\n",
      "e\n",
      "e\n",
      "e\n",
      "l\n",
      "l\n",
      "l\n",
      "o\n",
      "o\n",
      "o\n",
      "o\n",
      "o\n",
      "o\n"
     ]
    }
   ],
   "source": [
    "for ch in \"HHeeellloooooo\":\n",
    "    print(ch)"
   ]
  },
  {
   "cell_type": "code",
   "execution_count": 10,
   "id": "feace32c-e6bc-43cf-a8e4-fafaa4a2000e",
   "metadata": {},
   "outputs": [
    {
     "name": "stdout",
     "output_type": "stream",
     "text": [
      "49\n"
     ]
    }
   ],
   "source": [
    "def square(n):\n",
    "    return n * n\n",
    "print(square(7))"
   ]
  },
  {
   "cell_type": "code",
   "execution_count": 12,
   "id": "80794bcd-1162-4a64-a129-4ece525119e1",
   "metadata": {},
   "outputs": [
    {
     "name": "stdout",
     "output_type": "stream",
     "text": [
      "0.39070160387038\n"
     ]
    }
   ],
   "source": [
    "import random \n",
    "print(random.random())"
   ]
  },
  {
   "cell_type": "code",
   "execution_count": 19,
   "id": "9f5d9ef3-2089-4b90-ab30-865ae7182a84",
   "metadata": {},
   "outputs": [
    {
     "name": "stdout",
     "output_type": "stream",
     "text": [
      "4 , 5 , 4 , 3 , 3 , 1 , 4 , 1 , 2 , 1 , "
     ]
    }
   ],
   "source": [
    "def rolldice():\n",
    "    return random.randint(1,6)\n",
    "for i in range(10):\n",
    "    print(rolldice(), end=\" , \")\n",
    "    #print(random.randint(1,6))"
   ]
  },
  {
   "cell_type": "code",
   "execution_count": 20,
   "id": "2141d918-7afa-452f-b2db-809da8f5dad3",
   "metadata": {},
   "outputs": [],
   "source": [
    "capitals = {\"India\": \"New Dehli\", \"USA\": \"Washington DC\", \"UK\": \"London\"}"
   ]
  },
  {
   "cell_type": "code",
   "execution_count": 21,
   "id": "874cfd64-9192-4f15-9526-1a2610b9173e",
   "metadata": {},
   "outputs": [
    {
     "data": {
      "text/plain": [
       "3"
      ]
     },
     "execution_count": 21,
     "metadata": {},
     "output_type": "execute_result"
    }
   ],
   "source": [
    "len(capitals)"
   ]
  },
  {
   "cell_type": "code",
   "execution_count": 22,
   "id": "3cba1aca-5829-4a0f-9100-6047d38dbfd2",
   "metadata": {},
   "outputs": [
    {
     "data": {
      "text/plain": [
       "dict_keys(['India', 'USA', 'UK'])"
      ]
     },
     "execution_count": 22,
     "metadata": {},
     "output_type": "execute_result"
    }
   ],
   "source": [
    "capitals.keys() #dict.keys"
   ]
  },
  {
   "cell_type": "code",
   "execution_count": 24,
   "id": "2545f815-1171-4395-9503-1860c6dd7091",
   "metadata": {},
   "outputs": [
    {
     "data": {
      "text/plain": [
       "dict_values(['New Dehli', 'Washington DC', 'London'])"
      ]
     },
     "execution_count": 24,
     "metadata": {},
     "output_type": "execute_result"
    }
   ],
   "source": [
    "capitals.values()  #dict.values"
   ]
  },
  {
   "cell_type": "code",
   "execution_count": 26,
   "id": "eecfda50-ee62-482a-aa8b-e259fb9082fc",
   "metadata": {},
   "outputs": [
    {
     "data": {
      "text/plain": [
       "dict_items([('India', 'New Dehli'), ('USA', 'Washington DC'), ('UK', 'London')])"
      ]
     },
     "execution_count": 26,
     "metadata": {},
     "output_type": "execute_result"
    }
   ],
   "source": [
    "capitals.items()  #dict.items"
   ]
  },
  {
   "cell_type": "code",
   "execution_count": 27,
   "id": "a0bc26d7-e5a2-4bed-995b-613741fb600d",
   "metadata": {},
   "outputs": [],
   "source": [
    "capitals[\"Srilanka\"] = \"colombo\""
   ]
  },
  {
   "cell_type": "code",
   "execution_count": 28,
   "id": "c0c252d2-8d6c-479c-96e8-cd1072386752",
   "metadata": {},
   "outputs": [
    {
     "data": {
      "text/plain": [
       "4"
      ]
     },
     "execution_count": 28,
     "metadata": {},
     "output_type": "execute_result"
    }
   ],
   "source": [
    "len(capitals)"
   ]
  },
  {
   "cell_type": "code",
   "execution_count": 29,
   "id": "92b07bc2-5ffc-4447-95bf-6594cecdfeb1",
   "metadata": {},
   "outputs": [],
   "source": [
    "capitals[\"Afganistan\"] = \"Kabul\""
   ]
  },
  {
   "cell_type": "code",
   "execution_count": 30,
   "id": "e32c28c0-a50b-4443-b999-1db77c128d5c",
   "metadata": {},
   "outputs": [
    {
     "data": {
      "text/plain": [
       "5"
      ]
     },
     "execution_count": 30,
     "metadata": {},
     "output_type": "execute_result"
    }
   ],
   "source": [
    "len(capitals)"
   ]
  },
  {
   "cell_type": "code",
   "execution_count": 31,
   "id": "4d611bd1-1896-41d2-9d1a-220512189ecc",
   "metadata": {},
   "outputs": [
    {
     "data": {
      "text/plain": [
       "dict_items([('India', 'New Dehli'), ('USA', 'Washington DC'), ('UK', 'London'), ('Srilanka', 'colombo'), ('Afganistan', 'Kabul')])"
      ]
     },
     "execution_count": 31,
     "metadata": {},
     "output_type": "execute_result"
    }
   ],
   "source": [
    "capitals.items()"
   ]
  },
  {
   "cell_type": "code",
   "execution_count": 55,
   "id": "948fcfba-4020-4c3a-a789-c26b2bfce2e5",
   "metadata": {},
   "outputs": [
    {
     "name": "stdout",
     "output_type": "stream",
     "text": [
      "New Dehli\n",
      "Washington DC\n",
      "London\n",
      "colombo\n",
      "Kabul\n"
     ]
    }
   ],
   "source": [
    "for k in capitals.keys():\n",
    "    print(capitals[k])\n",
    "    #print(k)"
   ]
  },
  {
   "cell_type": "code",
   "execution_count": 36,
   "id": "ff1d55b2-60ab-490c-9ddb-db2763d2a567",
   "metadata": {},
   "outputs": [
    {
     "name": "stdout",
     "output_type": "stream",
     "text": [
      "India New Dehli\n",
      "USA Washington DC\n",
      "UK London\n",
      "Srilanka colombo\n",
      "Afganistan Kabul\n"
     ]
    }
   ],
   "source": [
    "for k in capitals.keys():\n",
    "    print(k , capitals[k])"
   ]
  },
  {
   "cell_type": "markdown",
   "id": "939e8b87-b792-45c4-8815-0e70df23d55d",
   "metadata": {},
   "source": [
    "Identify the even number by using class & mod operator method"
   ]
  },
  {
   "cell_type": "code",
   "execution_count": 42,
   "id": "f50cba80-1dbf-44c1-8623-97900ddb2d30",
   "metadata": {},
   "outputs": [
    {
     "data": {
      "text/plain": [
       "3"
      ]
     },
     "execution_count": 42,
     "metadata": {},
     "output_type": "execute_result"
    }
   ],
   "source": [
    "nums = 2,1,2,3,4\n",
    "\n",
    "def count_evens(nums):\n",
    "    count = 0 \n",
    "    for x in nums:\n",
    "        if x % 2 == 0:\n",
    "            count += 1\n",
    "    return count\n",
    "count_evens(nums)"
   ]
  },
  {
   "cell_type": "code",
   "execution_count": 43,
   "id": "ffe879c0-f1bf-4c1d-b1a4-59c5af7a584c",
   "metadata": {},
   "outputs": [
    {
     "name": "stdout",
     "output_type": "stream",
     "text": [
      "5\n",
      "4\n",
      "3\n",
      "2\n",
      "1\n",
      "0\n"
     ]
    }
   ],
   "source": [
    "n = 5\n",
    "while n > 0:\n",
    "    print(n)\n",
    "    n -= 1\n",
    "print(n)    "
   ]
  },
  {
   "cell_type": "code",
   "execution_count": 48,
   "id": "0fc03dd0-94b5-4fe3-8927-35eec77aee61",
   "metadata": {},
   "outputs": [
    {
     "name": "stdout",
     "output_type": "stream",
     "text": [
      "5\n",
      "4\n",
      "3\n",
      "2\n",
      "1\n",
      "0\n"
     ]
    }
   ],
   "source": [
    "for i in range(5,-1,-1):\n",
    "    print(i)"
   ]
  },
  {
   "cell_type": "markdown",
   "id": "edb50fd5-bdbd-4ebe-a434-4c997bcb4808",
   "metadata": {},
   "source": [
    "Find the average of number in ist also define count & opperation of sum"
   ]
  },
  {
   "cell_type": "code",
   "execution_count": 51,
   "id": "8cc672a6-b5aa-4c66-9258-e8f3d26bfe7f",
   "metadata": {},
   "outputs": [
    {
     "name": "stdout",
     "output_type": "stream",
     "text": [
      "Before  0 0\n",
      "1 9 9\n",
      "2 50 41\n",
      "3 62 12\n",
      "4 65 3\n",
      "5 139 74\n",
      "6 154 15\n",
      "after 6 154\n",
      "Average is:-   25.666666666666668\n"
     ]
    }
   ],
   "source": [
    "count = 0\n",
    "sum = 0\n",
    "print(\"Before \",count,sum)\n",
    "for value in [9,41,12,3,74,15]:\n",
    "    count += 1  #Count = Count + 1\n",
    "    sum = sum + value\n",
    "    print(count, sum, value)\n",
    "g = sum/count \n",
    "print(\"after\", count, sum)\n",
    "print(\"Average is:-  \", g)"
   ]
  },
  {
   "cell_type": "code",
   "execution_count": 56,
   "id": "7ab8be33-c553-46ab-8140-6c55c478be71",
   "metadata": {},
   "outputs": [
    {
     "name": "stdout",
     "output_type": "stream",
     "text": [
      "Before 0 0\n",
      "1 1 1\n",
      "2 3 2\n",
      "3 6 3\n",
      "4 10 4\n",
      "5 15 5\n",
      "6 21 6\n",
      "7 28 7\n",
      "8 36 8\n",
      "After 8 36\n",
      "Average :-  4.5\n"
     ]
    }
   ],
   "source": [
    "count = 0\n",
    "sum = 0\n",
    "print(\"Before\", count, sum)\n",
    "for value in [1,2,3,4,5,6,7,8]:\n",
    "    count += 1\n",
    "    sum = sum + value\n",
    "    print(count, sum, value)\n",
    "g = sum/count\n",
    "print(\"After\", count, sum)\n",
    "print(\"Average :- \", g)"
   ]
  },
  {
   "cell_type": "code",
   "execution_count": 59,
   "id": "b1717b80-0df0-4b76-9350-769584090c7e",
   "metadata": {},
   "outputs": [
    {
     "name": "stdout",
     "output_type": "stream",
     "text": [
      "apple\n",
      "banana\n",
      "banana\n",
      "republic\n",
      "republic\n",
      "republic\n"
     ]
    }
   ],
   "source": [
    "a = ['apple', 'banana', 'republic'] \n",
    "for i in range(len(a)): #len function use for count string how many times\n",
    "    for j in range(i + 1):\n",
    "        print(a[i])\n"
   ]
  },
  {
   "cell_type": "code",
   "execution_count": 69,
   "id": "e49838d4-b9f0-4aeb-9387-6947693ec3cb",
   "metadata": {},
   "outputs": [
    {
     "name": "stdout",
     "output_type": "stream",
     "text": [
      "Before\n",
      "Large number than 20 :-  41\n",
      "Large number than 20 :-  74\n",
      "After\n"
     ]
    }
   ],
   "source": [
    "\n",
    "print(\"Before\")\n",
    "for value in [9,12,41,74,15]:\n",
    "    if value > 20:\n",
    "        print(\"Large number than 20 :- \", value)\n",
    "print(\"After\")  "
   ]
  },
  {
   "cell_type": "code",
   "execution_count": 81,
   "id": "dc7229cf-63a3-4a69-ac9c-97926aa50196",
   "metadata": {},
   "outputs": [
    {
     "name": "stdout",
     "output_type": "stream",
     "text": [
      "Before\n",
      "[3, 9, 12, 15, 41, 74]\n",
      "Smalest number in list is :-  9\n"
     ]
    }
   ],
   "source": [
    "c = []\n",
    "smallest = None\n",
    "print(\"Before\")\n",
    "for value in [9, 12, 41, 3, 74, 15]:\n",
    "    c.append(value)\n",
    "c.sort() \n",
    "print(c)\n",
    "print(\"Smalest number in list is :- \", c[1]) #if you want to find largest no then put -1 in bracket ."
   ]
  },
  {
   "cell_type": "code",
   "execution_count": 85,
   "id": "7175fb10-dc28-41bc-a202-721988413cc9",
   "metadata": {},
   "outputs": [
    {
     "name": "stdout",
     "output_type": "stream",
     "text": [
      "Before\n",
      "9 9\n",
      "9 12\n",
      "9 41\n",
      "3 3\n",
      "3 74\n",
      "3 15\n",
      "After 3\n"
     ]
    }
   ],
   "source": [
    "smallest = None\n",
    "print(\"Before\")\n",
    "for value in [9,12,41,3,74,15]:\n",
    "    if smallest is None:\n",
    "        smallest = value \n",
    "    elif value < smallest: #\" > \" if used this then we recognize largest number \n",
    "        smallest = value \n",
    "    print(smallest, value)\n",
    "print('After', smallest)    \n",
    "        \n",
    "        "
   ]
  },
  {
   "cell_type": "code",
   "execution_count": 88,
   "id": "e4c3d80b-ad6b-49be-8c0c-5cff3f790610",
   "metadata": {},
   "outputs": [
    {
     "name": "stdout",
     "output_type": "stream",
     "text": [
      "Smallest element is:-  4\n"
     ]
    }
   ],
   "source": [
    "list = [10, 20, 4, 45, 99]\n",
    "list.sort()\n",
    "print(\"Smallest element is:- \", list[0])"
   ]
  },
  {
   "cell_type": "code",
   "execution_count": 89,
   "id": "59b6c2fb-8648-447b-a895-3f0b18b82f36",
   "metadata": {},
   "outputs": [
    {
     "name": "stdout",
     "output_type": "stream",
     "text": [
      "0 b\n",
      "1 a\n",
      "2 n\n",
      "3 a\n",
      "4 n\n",
      "5 a\n"
     ]
    }
   ],
   "source": [
    "fruit = 'banana'\n",
    "index = 0\n",
    "while index < len(fruit):\n",
    "    letter = fruit[index]\n",
    "    print(index, letter)\n",
    "    index = index + 1"
   ]
  },
  {
   "cell_type": "code",
   "execution_count": 90,
   "id": "089b3da5-b5f5-4cc9-9c95-70dafa643dd3",
   "metadata": {},
   "outputs": [
    {
     "name": "stdout",
     "output_type": "stream",
     "text": [
      "a\n",
      "p\n",
      "p\n",
      "l\n",
      "e\n"
     ]
    }
   ],
   "source": [
    "fruit = 'apple'\n",
    "for letter in fruit:\n",
    "    print(letter)"
   ]
  },
  {
   "cell_type": "code",
   "execution_count": 92,
   "id": "9cb42ba5-7285-4ab2-bed0-58650a153ef3",
   "metadata": {},
   "outputs": [
    {
     "name": "stdout",
     "output_type": "stream",
     "text": [
      "2\n"
     ]
    }
   ],
   "source": [
    "word = 'banana'\n",
    "count = 0\n",
    "for letter in word:\n",
    "    if letter == 'n':\n",
    "        count = count + 1\n",
    "print(count)    "
   ]
  },
  {
   "cell_type": "code",
   "execution_count": 2,
   "id": "cf847a6b-2cc5-4b1c-8df7-e9eab2e5eda0",
   "metadata": {},
   "outputs": [
    {
     "name": "stdout",
     "output_type": "stream",
     "text": [
      "Hello Hello \n"
     ]
    }
   ],
   "source": [
    "a = 'Hello'\n",
    "b = a + ' Hello '\n",
    "print(b)\n"
   ]
  },
  {
   "cell_type": "code",
   "execution_count": 5,
   "id": "ca361edb-291f-4c2d-a181-de82bfc05975",
   "metadata": {},
   "outputs": [
    {
     "name": "stdout",
     "output_type": "stream",
     "text": [
      "Hello Hello\n"
     ]
    }
   ],
   "source": [
    "c = a + ' ' + 'Hello'\n",
    "print(c)"
   ]
  },
  {
   "cell_type": "code",
   "execution_count": null,
   "id": "12a3a67e-58e2-4329-b6bb-5110c47cc9bf",
   "metadata": {},
   "outputs": [],
   "source": []
  },
  {
   "cell_type": "markdown",
   "id": "48191a90-2e5a-4720-8444-ce445090ab10",
   "metadata": {},
   "source": [
    "Tuple in python"
   ]
  },
  {
   "cell_type": "code",
   "execution_count": 2,
   "id": "61d991a1-8c5b-4a3d-8f20-910c9da6bcea",
   "metadata": {},
   "outputs": [
    {
     "name": "stdout",
     "output_type": "stream",
     "text": [
      "(45, 67, 67, 89, 90, 56, 80)\n"
     ]
    }
   ],
   "source": [
    "t1 = (45,67,67,89,90,56,80) #Tuple with Homogenous value (All are Integer)\n",
    "print(t1)\n"
   ]
  },
  {
   "cell_type": "code",
   "execution_count": 6,
   "id": "2658c8a4-d1e6-46d1-98f7-8f2a09f9384b",
   "metadata": {},
   "outputs": [
    {
     "name": "stdout",
     "output_type": "stream",
     "text": [
      "(45, 78, 'Helllo', 'tyhu', 89, 67)\n"
     ]
    },
    {
     "data": {
      "text/plain": [
       "tuple"
      ]
     },
     "execution_count": 6,
     "metadata": {},
     "output_type": "execute_result"
    }
   ],
   "source": [
    "t2 = (45,78,\"Helllo\", \"tyhu\", 89, 67) #Tuple with hetrogenous value (Elements are mixed)\n",
    "print(t2)\n",
    "type(t2)"
   ]
  },
  {
   "cell_type": "code",
   "execution_count": 7,
   "id": "08ece561-6c4f-41af-bc93-edbe4bdc0fa5",
   "metadata": {},
   "outputs": [
    {
     "name": "stdout",
     "output_type": "stream",
     "text": [
      "7\n"
     ]
    }
   ],
   "source": [
    "Mylength = len(t1)\n",
    "print(Mylength)"
   ]
  },
  {
   "cell_type": "code",
   "execution_count": 9,
   "id": "2cca1732-f872-4a77-b351-e3e22b99d901",
   "metadata": {},
   "outputs": [
    {
     "data": {
      "text/plain": [
       "True"
      ]
     },
     "execution_count": 9,
     "metadata": {},
     "output_type": "execute_result"
    }
   ],
   "source": [
    "67 in t1 # Search in tuple"
   ]
  },
  {
   "cell_type": "code",
   "execution_count": 11,
   "id": "ba3b41d0-dc6b-47a5-ab80-280a7f068d12",
   "metadata": {},
   "outputs": [
    {
     "data": {
      "text/plain": [
       "2"
      ]
     },
     "execution_count": 11,
     "metadata": {},
     "output_type": "execute_result"
    }
   ],
   "source": [
    "t1.count(67) #Elemrent present in the tuples (how many times)"
   ]
  },
  {
   "cell_type": "code",
   "execution_count": 18,
   "id": "95b2b62f-ad1a-429d-b168-16065055ab18",
   "metadata": {},
   "outputs": [
    {
     "data": {
      "text/plain": [
       "45"
      ]
     },
     "execution_count": 18,
     "metadata": {},
     "output_type": "execute_result"
    }
   ],
   "source": [
    "min(t1)"
   ]
  },
  {
   "cell_type": "code",
   "execution_count": 21,
   "id": "81d50c58-0cb7-466b-b92f-292fde82f3a2",
   "metadata": {},
   "outputs": [
    {
     "data": {
      "text/plain": [
       "67"
      ]
     },
     "execution_count": 21,
     "metadata": {},
     "output_type": "execute_result"
    }
   ],
   "source": [
    "t1[1] #Element slicing in tuple"
   ]
  },
  {
   "cell_type": "code",
   "execution_count": 22,
   "id": "7b51c77e-f08c-4459-ae76-c7a13b564fea",
   "metadata": {},
   "outputs": [
    {
     "data": {
      "text/plain": [
       "(45, 67, 67, 89, 90, 56)"
      ]
     },
     "execution_count": 22,
     "metadata": {},
     "output_type": "execute_result"
    }
   ],
   "source": [
    "t1[0:6]"
   ]
  },
  {
   "cell_type": "code",
   "execution_count": 24,
   "id": "6b624690-e1a9-46f1-904e-0f05c837f913",
   "metadata": {},
   "outputs": [
    {
     "data": {
      "text/plain": [
       "(45, 67, 90, 80)"
      ]
     },
     "execution_count": 24,
     "metadata": {},
     "output_type": "execute_result"
    }
   ],
   "source": [
    "#Junping elements\n",
    "t1[0::2]"
   ]
  },
  {
   "cell_type": "code",
   "execution_count": 26,
   "id": "49bddf4b-6d19-49a7-bddb-fcce801b85c1",
   "metadata": {},
   "outputs": [
    {
     "name": "stdout",
     "output_type": "stream",
     "text": [
      "((45, 67, 67, 89, 90, 56, 80), (45, 78, 'Helllo', 'tyhu', 89, 67))\n"
     ]
    }
   ],
   "source": [
    "t3 = (t1,t2)\n",
    "print(t3)"
   ]
  },
  {
   "cell_type": "code",
   "execution_count": 37,
   "id": "4f534a11-a89b-47ea-9411-ae6d36337a43",
   "metadata": {},
   "outputs": [
    {
     "name": "stdout",
     "output_type": "stream",
     "text": [
      "89\n"
     ]
    }
   ],
   "source": [
    "print(t3[0][3])"
   ]
  },
  {
   "cell_type": "markdown",
   "id": "488ea9ff-3c3a-4b7a-93fd-3e062f274043",
   "metadata": {},
   "source": [
    "List In Python\n"
   ]
  },
  {
   "cell_type": "markdown",
   "id": "8c08b415-d43e-4757-8d43-c1f871d11386",
   "metadata": {},
   "source": [
    "List with Homogenous value (All are Integer)"
   ]
  },
  {
   "cell_type": "code",
   "execution_count": 3,
   "id": "1e3eb5e4-365b-403e-92fd-d4a9dc147eac",
   "metadata": {},
   "outputs": [
    {
     "name": "stdout",
     "output_type": "stream",
     "text": [
      "[1, 2, 3, 4, 5, 6, 6, 7, 7]\n"
     ]
    },
    {
     "data": {
      "text/plain": [
       "list"
      ]
     },
     "execution_count": 3,
     "metadata": {},
     "output_type": "execute_result"
    }
   ],
   "source": [
    "x = [1,2,3,4,5,6,6,7,7]\n",
    "print(x)\n",
    "type(x)"
   ]
  },
  {
   "cell_type": "markdown",
   "id": "23090647-9fec-4829-b7d7-b4d6b0741b7d",
   "metadata": {},
   "source": [
    "List with hetrogenous value (Elements are mixed)"
   ]
  },
  {
   "cell_type": "code",
   "execution_count": 6,
   "id": "1f8cfdf7-2c7e-4f86-ab28-ab40346c74f7",
   "metadata": {},
   "outputs": [
    {
     "name": "stdout",
     "output_type": "stream",
     "text": [
      "[2, 3, 4, 5, 56, 'hughf', 7, 'Mohit', 3, 4, 5]\n"
     ]
    },
    {
     "data": {
      "text/plain": [
       "list"
      ]
     },
     "execution_count": 6,
     "metadata": {},
     "output_type": "execute_result"
    }
   ],
   "source": [
    "x1 = [2,3,4,5,56,'hughf',7,\"Mohit\",3,4,5]\n",
    "print(x1)\n",
    "type(x1)"
   ]
  },
  {
   "cell_type": "code",
   "execution_count": 7,
   "id": "750a537a-d9d8-4e76-8862-a0c2cf815048",
   "metadata": {},
   "outputs": [
    {
     "data": {
      "text/plain": [
       "11"
      ]
     },
     "execution_count": 7,
     "metadata": {},
     "output_type": "execute_result"
    }
   ],
   "source": [
    "len(x1)"
   ]
  },
  {
   "cell_type": "code",
   "execution_count": 15,
   "id": "6f3c3525-4739-4d42-ba34-12873aada9d3",
   "metadata": {},
   "outputs": [
    {
     "name": "stdout",
     "output_type": "stream",
     "text": [
      "[2, 3, 4, 5, 56, 'hughf', 7, 'Mohit', 3, 4, 5, 23, 23, 3, 4, 3, 4, 'h', 23]\n"
     ]
    }
   ],
   "source": [
    "x1.append(23) #.append function only add 1 value\n",
    "print(x1)"
   ]
  },
  {
   "cell_type": "code",
   "execution_count": 16,
   "id": "32733951-ece8-4bc3-a9bf-5e5c465c51a4",
   "metadata": {},
   "outputs": [],
   "source": [
    "x1.extend((3,4,'h')) #.extend add multiple value add  1 time.\n"
   ]
  },
  {
   "cell_type": "code",
   "execution_count": 17,
   "id": "d90e81e3-d302-484a-949e-0ead0a8bb67b",
   "metadata": {},
   "outputs": [
    {
     "name": "stdout",
     "output_type": "stream",
     "text": [
      "[2, 3, 4, 5, 56, 'hughf', 7, 'Mohit', 3, 4, 5, 23, 23, 3, 4, 3, 4, 'h', 23, 3, 4, 'h']\n"
     ]
    }
   ],
   "source": [
    "print(x1)"
   ]
  },
  {
   "cell_type": "code",
   "execution_count": 18,
   "id": "8b2927b1-74ca-49cc-bfd3-47009eb29389",
   "metadata": {},
   "outputs": [
    {
     "data": {
      "text/plain": [
       "'h'"
      ]
     },
     "execution_count": 18,
     "metadata": {},
     "output_type": "execute_result"
    }
   ],
   "source": [
    "x1.pop()"
   ]
  },
  {
   "cell_type": "code",
   "execution_count": 19,
   "id": "7cd46c6c-2f84-444d-a1eb-89215427d356",
   "metadata": {},
   "outputs": [
    {
     "name": "stdout",
     "output_type": "stream",
     "text": [
      "[2, 3, 4, 5, 56, 'hughf', 7, 'Mohit', 3, 4, 5, 23, 23, 3, 4, 3, 4, 'h', 23, 3, 4]\n"
     ]
    }
   ],
   "source": [
    "print(x1)"
   ]
  },
  {
   "cell_type": "code",
   "execution_count": 21,
   "id": "477b0497-96c3-4a03-88ee-99b90d5839fc",
   "metadata": {},
   "outputs": [
    {
     "data": {
      "text/plain": [
       "2"
      ]
     },
     "execution_count": 21,
     "metadata": {},
     "output_type": "execute_result"
    }
   ],
   "source": [
    "x1.pop(0)"
   ]
  },
  {
   "cell_type": "code",
   "execution_count": 22,
   "id": "5badcb30-5c31-462c-b105-0bceb5c921ee",
   "metadata": {},
   "outputs": [
    {
     "name": "stdout",
     "output_type": "stream",
     "text": [
      "[3, 4, 5, 56, 'hughf', 7, 'Mohit', 3, 4, 5, 23, 23, 3, 4, 3, 4, 'h', 23, 3, 4]\n"
     ]
    }
   ],
   "source": [
    "print(x1)"
   ]
  },
  {
   "cell_type": "code",
   "execution_count": 23,
   "id": "863d627f-55d2-447d-b829-c18cbdbe7d58",
   "metadata": {},
   "outputs": [
    {
     "name": "stdout",
     "output_type": "stream",
     "text": [
      "[1, 2, 3, 4, 5, 6, 6, 7, 7, 3, 4, 5, 56, 'hughf', 7, 'Mohit', 3, 4, 5, 23, 23, 3, 4, 3, 4, 'h', 23, 3, 4]\n"
     ]
    }
   ],
   "source": [
    "x3 = x  + x1\n",
    "print(x3)"
   ]
  },
  {
   "cell_type": "code",
   "execution_count": 24,
   "id": "93bd9f41-d5bc-40f7-ae1c-7cd6a1e32d56",
   "metadata": {},
   "outputs": [
    {
     "data": {
      "text/plain": [
       "[1, 2, 3, 4, 5]"
      ]
     },
     "execution_count": 24,
     "metadata": {},
     "output_type": "execute_result"
    }
   ],
   "source": [
    "x3[0:5]"
   ]
  },
  {
   "cell_type": "code",
   "execution_count": 26,
   "id": "473a8246-d00f-4f81-ac5c-710cdbdde7d2",
   "metadata": {},
   "outputs": [
    {
     "data": {
      "text/plain": [
       "[1, 4, 6, 3, 56, 'Mohit', 5, 3, 4, 3]"
      ]
     },
     "execution_count": 26,
     "metadata": {},
     "output_type": "execute_result"
    }
   ],
   "source": [
    "x3[0::3] # jumping elements in slicing "
   ]
  },
  {
   "cell_type": "code",
   "execution_count": 28,
   "id": "99fae060-7d4a-457b-990e-3ecbb7fe2b59",
   "metadata": {},
   "outputs": [
    {
     "data": {
      "text/plain": [
       "3"
      ]
     },
     "execution_count": 28,
     "metadata": {},
     "output_type": "execute_result"
    }
   ],
   "source": [
    "x3.count(7) "
   ]
  },
  {
   "cell_type": "code",
   "execution_count": 30,
   "id": "62a4b2fe-4095-4a32-bd6e-54af551bb2c7",
   "metadata": {},
   "outputs": [],
   "source": [
    "u = [67.4,5,6,0,6,2,7,8,9]\n",
    "u.sort()"
   ]
  },
  {
   "cell_type": "code",
   "execution_count": 31,
   "id": "bd3b9fb8-2608-4eb3-bf9f-1dffa937e9d2",
   "metadata": {},
   "outputs": [
    {
     "name": "stdout",
     "output_type": "stream",
     "text": [
      "[0, 2, 5, 6, 6, 7, 8, 9, 67.4]\n"
     ]
    }
   ],
   "source": [
    "print(u)"
   ]
  },
  {
   "cell_type": "code",
   "execution_count": 35,
   "id": "ea8f9b5d-c3fe-46fd-883b-d59869882337",
   "metadata": {},
   "outputs": [
    {
     "name": "stdout",
     "output_type": "stream",
     "text": [
      "110.4\n"
     ]
    }
   ],
   "source": [
    "w=sum(u)\n",
    "print(w)"
   ]
  },
  {
   "cell_type": "code",
   "execution_count": 37,
   "id": "b6a12878-dc94-494f-97b4-638ecb945c31",
   "metadata": {},
   "outputs": [
    {
     "name": "stdout",
     "output_type": "stream",
     "text": [
      "0\n",
      "67.4\n"
     ]
    }
   ],
   "source": [
    "print(min(u))\n",
    "print(max(u))"
   ]
  },
  {
   "cell_type": "code",
   "execution_count": 38,
   "id": "0d60faae-2c73-4665-adce-6511a17e1e92",
   "metadata": {},
   "outputs": [],
   "source": [
    "j = [2,'Hi',u]"
   ]
  },
  {
   "cell_type": "code",
   "execution_count": 39,
   "id": "10552935-97d6-4a4c-89f3-46ee5ca5e448",
   "metadata": {},
   "outputs": [
    {
     "name": "stdout",
     "output_type": "stream",
     "text": [
      "[2, 'Hi', [0, 2, 5, 6, 6, 7, 8, 9, 67.4]]\n"
     ]
    }
   ],
   "source": [
    "print(j)"
   ]
  },
  {
   "cell_type": "code",
   "execution_count": 45,
   "id": "2c3c5141-a589-44c6-a319-c78ee2e6d533",
   "metadata": {},
   "outputs": [
    {
     "name": "stdout",
     "output_type": "stream",
     "text": [
      "6\n"
     ]
    }
   ],
   "source": [
    "print(j[-1][3]) #slicing with list in list "
   ]
  },
  {
   "cell_type": "markdown",
   "id": "273a84bb-3ad7-4d50-8feb-600cd5adabe3",
   "metadata": {},
   "source": [
    "String in Python\n"
   ]
  },
  {
   "cell_type": "code",
   "execution_count": 46,
   "id": "45807715-d149-4009-a4c6-ad3c21f1271e",
   "metadata": {},
   "outputs": [
    {
     "data": {
      "text/plain": [
       "str"
      ]
     },
     "execution_count": 46,
     "metadata": {},
     "output_type": "execute_result"
    }
   ],
   "source": [
    "x1 = \"Hello LnB\"\n",
    "x2 = \"Welcome to the python World\"\n",
    "type(x2)"
   ]
  },
  {
   "cell_type": "code",
   "execution_count": 47,
   "id": "44970c88-ebc6-4dde-a121-58a402decc92",
   "metadata": {},
   "outputs": [
    {
     "data": {
      "text/plain": [
       "27"
      ]
     },
     "execution_count": 47,
     "metadata": {},
     "output_type": "execute_result"
    }
   ],
   "source": [
    "len(x2)"
   ]
  },
  {
   "cell_type": "code",
   "execution_count": 52,
   "id": "1c47d555-29b9-436c-983b-a26fe3717058",
   "metadata": {},
   "outputs": [
    {
     "name": "stdout",
     "output_type": "stream",
     "text": [
      "Hello LnBHello LnBHello LnB\n"
     ]
    }
   ],
   "source": [
    "print(x1*3)"
   ]
  },
  {
   "cell_type": "code",
   "execution_count": 55,
   "id": "09fb0560-59b2-484d-aaa8-c71dc61cf21d",
   "metadata": {},
   "outputs": [
    {
     "name": "stdout",
     "output_type": "stream",
     "text": [
      "Hello LnB       Welcome to the python World\n"
     ]
    }
   ],
   "source": [
    "x3 = x1 + '       ' + x2 #add multi list or concatination\n",
    "print(x3)"
   ]
  },
  {
   "cell_type": "code",
   "execution_count": null,
   "id": "766f25d4-4754-48c2-906b-8f24fd67b3cd",
   "metadata": {},
   "outputs": [],
   "source": [
    "#Formating in string "
   ]
  },
  {
   "cell_type": "code",
   "execution_count": 59,
   "id": "11d43059-534a-407c-975e-f74fd83739b6",
   "metadata": {},
   "outputs": [
    {
     "name": "stdout",
     "output_type": "stream",
     "text": [
      "Hey Reena\n",
      "Hey Hello LnB\n",
      "Hey Hello LnB and Welcome to the python World\n"
     ]
    }
   ],
   "source": [
    "name = \"Reena\"\n",
    "print(\"Hey %s\"%name)\n",
    "print(\"Hey {}\".format(x1))\n",
    "print(\"Hey {} and {}\".format(x1,x2))"
   ]
  },
  {
   "cell_type": "code",
   "execution_count": 61,
   "id": "9dfcc777-a2a8-4b2d-8b7e-562b0653cd04",
   "metadata": {},
   "outputs": [
    {
     "name": "stdout",
     "output_type": "stream",
     "text": [
      "['Welcome ', 'o ', 'he py', 'hon World']\n"
     ]
    }
   ],
   "source": [
    "print(x2.split('t'))"
   ]
  },
  {
   "cell_type": "markdown",
   "id": "0e2dea88-f723-4b17-98ff-69672ba313ea",
   "metadata": {},
   "source": [
    "STRING in Python\n"
   ]
  },
  {
   "cell_type": "code",
   "execution_count": 65,
   "id": "52f99c95-818b-4ca5-a818-71f1501b73b2",
   "metadata": {},
   "outputs": [],
   "source": [
    "g = \"Helloo world in this\""
   ]
  },
  {
   "cell_type": "code",
   "execution_count": 66,
   "id": "b102cf89-48ec-4f7f-8e72-98b53620fc56",
   "metadata": {},
   "outputs": [
    {
     "data": {
      "text/plain": [
       "20"
      ]
     },
     "execution_count": 66,
     "metadata": {},
     "output_type": "execute_result"
    }
   ],
   "source": [
    "len(g)"
   ]
  },
  {
   "cell_type": "code",
   "execution_count": 67,
   "id": "1b580a0d-451f-4671-9780-6206061f862d",
   "metadata": {},
   "outputs": [
    {
     "data": {
      "text/plain": [
       "str"
      ]
     },
     "execution_count": 67,
     "metadata": {},
     "output_type": "execute_result"
    }
   ],
   "source": [
    "type(g)"
   ]
  },
  {
   "cell_type": "code",
   "execution_count": 70,
   "id": "c82d1c77-9da9-4553-a3b4-06b951c9b213",
   "metadata": {},
   "outputs": [
    {
     "data": {
      "text/plain": [
       "'o'"
      ]
     },
     "execution_count": 70,
     "metadata": {},
     "output_type": "execute_result"
    }
   ],
   "source": [
    "g[5] #indexing in string"
   ]
  },
  {
   "cell_type": "code",
   "execution_count": 72,
   "id": "23701f94-82fc-4a75-8d19-b80ef7018363",
   "metadata": {},
   "outputs": [
    {
     "data": {
      "text/plain": [
       "'loo world in t'"
      ]
     },
     "execution_count": 72,
     "metadata": {},
     "output_type": "execute_result"
    }
   ],
   "source": [
    "g[0:7]\n",
    "g[3:17]"
   ]
  },
  {
   "cell_type": "code",
   "execution_count": 75,
   "id": "a01a93d4-b105-43dc-b3ad-03b5dcb7602f",
   "metadata": {},
   "outputs": [
    {
     "data": {
      "text/plain": [
       "True"
      ]
     },
     "execution_count": 75,
     "metadata": {},
     "output_type": "execute_result"
    }
   ],
   "source": [
    "'ld' in g"
   ]
  },
  {
   "cell_type": "code",
   "execution_count": 78,
   "id": "c054f239-ac6c-4b78-b518-2bc12d77646f",
   "metadata": {},
   "outputs": [
    {
     "data": {
      "text/plain": [
       "16"
      ]
     },
     "execution_count": 78,
     "metadata": {},
     "output_type": "execute_result"
    }
   ],
   "source": [
    "g.find('t') #find the location of string"
   ]
  },
  {
   "cell_type": "code",
   "execution_count": 81,
   "id": "6941d04c-60c0-4d69-8d78-a86d4722e246",
   "metadata": {},
   "outputs": [
    {
     "data": {
      "text/plain": [
       "'Helloo world in this'"
      ]
     },
     "execution_count": 81,
     "metadata": {},
     "output_type": "execute_result"
    }
   ],
   "source": [
    "g.capitalize() #only 1st character is big"
   ]
  },
  {
   "cell_type": "code",
   "execution_count": 83,
   "id": "b1d40c2f-c096-4213-b37a-bc96c838ead5",
   "metadata": {},
   "outputs": [
    {
     "data": {
      "text/plain": [
       "'HELLOO WORLD IN THIS'"
      ]
     },
     "execution_count": 83,
     "metadata": {},
     "output_type": "execute_result"
    }
   ],
   "source": [
    "g.upper()"
   ]
  },
  {
   "cell_type": "code",
   "execution_count": 84,
   "id": "947747f9-6f44-4ea2-ae7f-1fec7cf1a59f",
   "metadata": {},
   "outputs": [
    {
     "data": {
      "text/plain": [
       "'helloo world in this'"
      ]
     },
     "execution_count": 84,
     "metadata": {},
     "output_type": "execute_result"
    }
   ],
   "source": [
    "g.lower()"
   ]
  },
  {
   "cell_type": "markdown",
   "id": "a3e81173-3dc2-4de2-acd4-d4d2476be32c",
   "metadata": {},
   "source": [
    "DICT in Python"
   ]
  },
  {
   "cell_type": "code",
   "execution_count": 85,
   "id": "109a8fde-5bb3-4259-848c-f2bd9828d39e",
   "metadata": {},
   "outputs": [],
   "source": [
    "d= {}"
   ]
  },
  {
   "cell_type": "code",
   "execution_count": 86,
   "id": "6f8ed1f0-906e-4743-9c0c-f88e446e4d8d",
   "metadata": {},
   "outputs": [
    {
     "data": {
      "text/plain": [
       "dict"
      ]
     },
     "execution_count": 86,
     "metadata": {},
     "output_type": "execute_result"
    }
   ],
   "source": [
    "type(d)"
   ]
  },
  {
   "cell_type": "code",
   "execution_count": 87,
   "id": "c071704f-c318-4264-b2e7-285b58f80ae0",
   "metadata": {},
   "outputs": [],
   "source": [
    "d1 = {'name':'Reena', 'Company':'Novadics', 'Contact':'8470'}"
   ]
  },
  {
   "cell_type": "code",
   "execution_count": 88,
   "id": "e7aca409-e787-429f-b19b-a0bd6fa3be0e",
   "metadata": {},
   "outputs": [
    {
     "data": {
      "text/plain": [
       "dict_keys(['name', 'Company', 'Contact'])"
      ]
     },
     "execution_count": 88,
     "metadata": {},
     "output_type": "execute_result"
    }
   ],
   "source": [
    "d1.keys()"
   ]
  },
  {
   "cell_type": "code",
   "execution_count": 89,
   "id": "1c54860b-a8d4-402a-954a-bc30e349420e",
   "metadata": {},
   "outputs": [
    {
     "data": {
      "text/plain": [
       "dict_values(['Reena', 'Novadics', '8470'])"
      ]
     },
     "execution_count": 89,
     "metadata": {},
     "output_type": "execute_result"
    }
   ],
   "source": [
    "d1.values()"
   ]
  },
  {
   "cell_type": "code",
   "execution_count": 91,
   "id": "85f5c542-2748-46b9-bc8e-3c9a672b3c88",
   "metadata": {},
   "outputs": [
    {
     "data": {
      "text/plain": [
       "'Reena'"
      ]
     },
     "execution_count": 91,
     "metadata": {},
     "output_type": "execute_result"
    }
   ],
   "source": [
    "(d1['name'])"
   ]
  },
  {
   "cell_type": "code",
   "execution_count": 92,
   "id": "295800ba-669e-4ef6-afce-41794d07c99c",
   "metadata": {},
   "outputs": [],
   "source": [
    "d1[0]= \"Hello\" #Adding Keys in Dict "
   ]
  },
  {
   "cell_type": "code",
   "execution_count": 93,
   "id": "29e6a67f-936a-4e54-92d7-744f8aa51be8",
   "metadata": {},
   "outputs": [
    {
     "data": {
      "text/plain": [
       "{'name': 'Reena', 'Company': 'Novadics', 'Contact': '8470', 0: 'Hello'}"
      ]
     },
     "execution_count": 93,
     "metadata": {},
     "output_type": "execute_result"
    }
   ],
   "source": [
    "d1"
   ]
  },
  {
   "cell_type": "code",
   "execution_count": 94,
   "id": "7156775c-cdda-4c5d-98d3-df73b0ec5680",
   "metadata": {},
   "outputs": [],
   "source": [
    "d1['age']= 27"
   ]
  },
  {
   "cell_type": "code",
   "execution_count": 96,
   "id": "02479055-4734-4c20-b633-616924528eff",
   "metadata": {},
   "outputs": [
    {
     "name": "stdout",
     "output_type": "stream",
     "text": [
      "{'name': 'Reena', 'Company': 'Novadics', 'Contact': '8470', 0: 'Hello', 'age': 27}\n"
     ]
    }
   ],
   "source": [
    "print(d1)"
   ]
  },
  {
   "cell_type": "code",
   "execution_count": 99,
   "id": "a062631c-f28c-4edb-b618-db53d3053456",
   "metadata": {},
   "outputs": [
    {
     "ename": "KeyError",
     "evalue": "0",
     "output_type": "error",
     "traceback": [
      "\u001b[1;31m---------------------------------------------------------------------------\u001b[0m",
      "\u001b[1;31mKeyError\u001b[0m                                  Traceback (most recent call last)",
      "\u001b[1;32m~\\AppData\\Local\\Temp\\ipykernel_21568\\2688786335.py\u001b[0m in \u001b[0;36m<module>\u001b[1;34m\u001b[0m\n\u001b[1;32m----> 1\u001b[1;33m \u001b[1;32mdel\u001b[0m \u001b[0md1\u001b[0m\u001b[1;33m[\u001b[0m\u001b[1;36m0\u001b[0m\u001b[1;33m]\u001b[0m \u001b[1;31m#deleting 0 value in dict\u001b[0m\u001b[1;33m\u001b[0m\u001b[1;33m\u001b[0m\u001b[0m\n\u001b[0m",
      "\u001b[1;31mKeyError\u001b[0m: 0"
     ]
    }
   ],
   "source": [
    "del d1[0] #deleting 0 value in dict"
   ]
  },
  {
   "cell_type": "code",
   "execution_count": 100,
   "id": "47fc3469-e49d-46d4-8620-c54da94d9f73",
   "metadata": {},
   "outputs": [
    {
     "data": {
      "text/plain": [
       "{'name': 'Reena', 'Company': 'Novadics', 'Contact': '8470', 'age': 27}"
      ]
     },
     "execution_count": 100,
     "metadata": {},
     "output_type": "execute_result"
    }
   ],
   "source": [
    "d1"
   ]
  },
  {
   "cell_type": "markdown",
   "id": "e739341b-3541-4989-abdc-980b1c0864c1",
   "metadata": {},
   "source": [
    "SETs in Python\n"
   ]
  },
  {
   "cell_type": "code",
   "execution_count": 101,
   "id": "68139beb-fe39-4f92-8ef3-74be34836bc3",
   "metadata": {},
   "outputs": [
    {
     "data": {
      "text/plain": [
       "set"
      ]
     },
     "execution_count": 101,
     "metadata": {},
     "output_type": "execute_result"
    }
   ],
   "source": [
    "d = {2,3,4,5,6,7,78}\n",
    "type(d)"
   ]
  },
  {
   "cell_type": "code",
   "execution_count": 102,
   "id": "0bf35cb7-7790-4379-b36a-bec9bd465ffb",
   "metadata": {},
   "outputs": [
    {
     "name": "stdout",
     "output_type": "stream",
     "text": [
      "{2, 3, 4, 5, 6, 7, 78}\n"
     ]
    }
   ],
   "source": [
    "print(d)"
   ]
  },
  {
   "cell_type": "code",
   "execution_count": 104,
   "id": "1863b6f2-e46e-487a-b88c-c2f9b4d5630b",
   "metadata": {},
   "outputs": [],
   "source": [
    "#second method for set \n",
    "d1 = set([2,56,78,'hrllo','j',89,0,7])"
   ]
  },
  {
   "cell_type": "code",
   "execution_count": 105,
   "id": "30dc1add-202d-419e-a32f-f20baaef242a",
   "metadata": {},
   "outputs": [
    {
     "data": {
      "text/plain": [
       "set"
      ]
     },
     "execution_count": 105,
     "metadata": {},
     "output_type": "execute_result"
    }
   ],
   "source": [
    "type(d1)"
   ]
  },
  {
   "cell_type": "code",
   "execution_count": 106,
   "id": "49fae374-da43-44e1-bdf3-020fe5a9bf4e",
   "metadata": {},
   "outputs": [
    {
     "data": {
      "text/plain": [
       "{0, 2, 56, 7, 78, 89, 'hrllo', 'j'}"
      ]
     },
     "execution_count": 106,
     "metadata": {},
     "output_type": "execute_result"
    }
   ],
   "source": [
    "d1"
   ]
  },
  {
   "cell_type": "code",
   "execution_count": 110,
   "id": "1605e8fc-2db8-4d3e-86cc-6bfe037de994",
   "metadata": {},
   "outputs": [],
   "source": [
    "d1.add('Hello XYZ') #add only one element in set"
   ]
  },
  {
   "cell_type": "code",
   "execution_count": 111,
   "id": "06f59332-1e98-42da-a6d6-2bfebf73c0fc",
   "metadata": {},
   "outputs": [
    {
     "data": {
      "text/plain": [
       "{0, 2, 56, 7, 78, 89, 'Hello XYZ', 'hrllo', 'j'}"
      ]
     },
     "execution_count": 111,
     "metadata": {},
     "output_type": "execute_result"
    }
   ],
   "source": [
    "d1"
   ]
  },
  {
   "cell_type": "code",
   "execution_count": 113,
   "id": "2f9558cb-9883-47ad-bb41-5b44ad3ebe7a",
   "metadata": {},
   "outputs": [],
   "source": [
    "d1.update(['gty', 78]) #add multiple lement in one time"
   ]
  },
  {
   "cell_type": "code",
   "execution_count": 114,
   "id": "35502e1a-540e-4f44-973a-1c66a62f34d3",
   "metadata": {},
   "outputs": [
    {
     "data": {
      "text/plain": [
       "{0, 2, 56, 7, 78, 89, 'Hello XYZ', 'gty', 'hrllo', 'j'}"
      ]
     },
     "execution_count": 114,
     "metadata": {},
     "output_type": "execute_result"
    }
   ],
   "source": [
    "d1"
   ]
  },
  {
   "cell_type": "code",
   "execution_count": 115,
   "id": "b1628e56-3d6b-408d-a6eb-72d864b8f805",
   "metadata": {},
   "outputs": [],
   "source": [
    "#remove element in sets\n",
    "d1.remove(56)"
   ]
  },
  {
   "cell_type": "code",
   "execution_count": 116,
   "id": "37e24412-b3d2-437a-b32f-275654a2e087",
   "metadata": {},
   "outputs": [
    {
     "data": {
      "text/plain": [
       "{0, 2, 7, 78, 89, 'Hello XYZ', 'gty', 'hrllo', 'j'}"
      ]
     },
     "execution_count": 116,
     "metadata": {},
     "output_type": "execute_result"
    }
   ],
   "source": [
    "d1"
   ]
  },
  {
   "cell_type": "code",
   "execution_count": 118,
   "id": "a02963dc-13d8-4f80-b92e-d4472156137b",
   "metadata": {},
   "outputs": [],
   "source": [
    "d1.discard('j')"
   ]
  },
  {
   "cell_type": "code",
   "execution_count": 119,
   "id": "5c4383cf-e6b7-4abe-a226-8d10a70ab61e",
   "metadata": {},
   "outputs": [
    {
     "data": {
      "text/plain": [
       "{0, 2, 7, 78, 89, 'Hello XYZ', 'gty', 'hrllo'}"
      ]
     },
     "execution_count": 119,
     "metadata": {},
     "output_type": "execute_result"
    }
   ],
   "source": [
    "d1"
   ]
  },
  {
   "cell_type": "code",
   "execution_count": 120,
   "id": "1fc2e2d1-4786-4be4-a549-878aa97d4184",
   "metadata": {},
   "outputs": [
    {
     "data": {
      "text/plain": [
       "{56, 'j'}"
      ]
     },
     "execution_count": 120,
     "metadata": {},
     "output_type": "execute_result"
    }
   ],
   "source": [
    "d - d1"
   ]
  },
  {
   "cell_type": "code",
   "execution_count": 121,
   "id": "c80381bb-2eb5-422c-b043-97c7dbe5928e",
   "metadata": {},
   "outputs": [
    {
     "data": {
      "text/plain": [
       "{0, 2, 56, 7, 78, 89, 'Hello XYZ', 'gty', 'hrllo', 'j'}"
      ]
     },
     "execution_count": 121,
     "metadata": {},
     "output_type": "execute_result"
    }
   ],
   "source": [
    "d | d1"
   ]
  },
  {
   "cell_type": "code",
   "execution_count": 122,
   "id": "966be9c7-46e5-4c4a-bb59-67aac8cd5008",
   "metadata": {},
   "outputs": [
    {
     "data": {
      "text/plain": [
       "{0, 2, 7, 78, 89, 'hrllo'}"
      ]
     },
     "execution_count": 122,
     "metadata": {},
     "output_type": "execute_result"
    }
   ],
   "source": [
    "d & d1"
   ]
  },
  {
   "cell_type": "code",
   "execution_count": 123,
   "id": "9d20730a-e698-4e11-a50c-aab15a8e9511",
   "metadata": {},
   "outputs": [],
   "source": [
    "d.clear()"
   ]
  },
  {
   "cell_type": "code",
   "execution_count": 124,
   "id": "5aeb8d6c-708c-4aaa-a225-35b6c42ebdb2",
   "metadata": {},
   "outputs": [],
   "source": [
    "d1.clear()"
   ]
  },
  {
   "cell_type": "code",
   "execution_count": null,
   "id": "88db6909-251c-4493-ac45-24ac70cb3c61",
   "metadata": {},
   "outputs": [],
   "source": []
  },
  {
   "cell_type": "code",
   "execution_count": null,
   "id": "876eef0c-5ecf-4ce3-8527-6eb5ffcac41a",
   "metadata": {},
   "outputs": [],
   "source": []
  },
  {
   "cell_type": "code",
   "execution_count": null,
   "id": "992d97ec-ac76-4aed-8775-b91f5ade118a",
   "metadata": {},
   "outputs": [],
   "source": []
  },
  {
   "cell_type": "code",
   "execution_count": null,
   "id": "91a5ccf7-c83c-4ab1-880f-b5b3225f28f7",
   "metadata": {},
   "outputs": [],
   "source": []
  },
  {
   "cell_type": "code",
   "execution_count": null,
   "id": "45a014e2-670c-469b-9583-a65c752119e0",
   "metadata": {},
   "outputs": [],
   "source": []
  },
  {
   "cell_type": "code",
   "execution_count": 13,
   "id": "b5317564-2be1-4660-93a5-7892151a3928",
   "metadata": {},
   "outputs": [
    {
     "name": "stdout",
     "output_type": "stream",
     "text": [
      "6\n"
     ]
    },
    {
     "data": {
      "text/plain": [
       "False"
      ]
     },
     "execution_count": 13,
     "metadata": {},
     "output_type": "execute_result"
    }
   ],
   "source": [
    "fruit = 'banana'\n",
    "#'n' in fruit\n",
    "'a' in fruit\n",
    "print(len(fruit))\n",
    "'a' not in fruit"
   ]
  },
  {
   "cell_type": "code",
   "execution_count": 17,
   "id": "4cc0cd5e-84d4-4c29-855e-d692b44f45cb",
   "metadata": {},
   "outputs": [
    {
     "name": "stdout",
     "output_type": "stream",
     "text": [
      "HELLO BOB\n"
     ]
    }
   ],
   "source": [
    "great = 'Hello Bob'\n",
    "zap = great.upper() # .lower() fun is used for lower case \n",
    "print(zap)"
   ]
  },
  {
   "cell_type": "code",
   "execution_count": 18,
   "id": "c0915059-35e1-4e20-b853-df8f5f4cd124",
   "metadata": {},
   "outputs": [
    {
     "data": {
      "text/plain": [
       "'Hello\\nworld'"
      ]
     },
     "execution_count": 18,
     "metadata": {},
     "output_type": "execute_result"
    }
   ],
   "source": [
    "stuff = \"Hello\\nworld\"\n",
    "stuff"
   ]
  },
  {
   "cell_type": "code",
   "execution_count": 20,
   "id": "c1e476f4-95d3-497c-96bc-bc0a2fd5cae3",
   "metadata": {},
   "outputs": [
    {
     "name": "stdout",
     "output_type": "stream",
     "text": [
      "Hello\n",
      "world !\n"
     ]
    }
   ],
   "source": [
    "stuff = \"Hello\\nworld !\"\n",
    "print(stuff)"
   ]
  },
  {
   "cell_type": "code",
   "execution_count": 22,
   "id": "69c5e7b4-87c8-4f6d-9f72-d137849e900b",
   "metadata": {},
   "outputs": [
    {
     "name": "stdout",
     "output_type": "stream",
     "text": [
      "4\n",
      "range(0, 4)\n"
     ]
    }
   ],
   "source": [
    "friends = ['Reena', 'Mohit', 'Umesh', 'Rinki']\n",
    "print(len(friends))\n",
    "print(range(len(friends)))"
   ]
  },
  {
   "cell_type": "code",
   "execution_count": 23,
   "id": "0803f994-6c81-42f7-a7a0-cacbb272aa03",
   "metadata": {},
   "outputs": [
    {
     "name": "stdout",
     "output_type": "stream",
     "text": [
      "Happy New Year Reena\n",
      "Happy New Year Mohit\n",
      "Happy New Year Umesh\n",
      "Happy New Year Rinki\n"
     ]
    }
   ],
   "source": [
    "friends = ['Reena', 'Mohit', 'Umesh', 'Rinki']\n",
    "for fr in friends:\n",
    "    print(\"Happy New Year\", fr)"
   ]
  },
  {
   "cell_type": "code",
   "execution_count": 25,
   "id": "b4d2e350-e96c-4817-b460-2b2e353c34ad",
   "metadata": {},
   "outputs": [
    {
     "name": "stdout",
     "output_type": "stream",
     "text": [
      "Happyn New year R\n",
      "Happyn New year i\n",
      "Happyn New year n\n",
      "Happyn New year k\n",
      "Happyn New year i\n"
     ]
    }
   ],
   "source": [
    "for i in range(len(fr)):\n",
    "    friends = fr[i]\n",
    "    print(\"Happyn New year\", friends)"
   ]
  },
  {
   "cell_type": "code",
   "execution_count": 30,
   "id": "02b48f67-0320-406c-abd1-b1057c4e559e",
   "metadata": {},
   "outputs": [
    {
     "name": "stdout",
     "output_type": "stream",
     "text": [
      "7\n",
      "76\n",
      "2\n",
      "141\n",
      "20.142857142857142\n"
     ]
    }
   ],
   "source": [
    "no = [2,3,41,5,6,76,8]\n",
    "print(len(no))\n",
    "print(max(no))\n",
    "print(min(no))\n",
    "print(sum(no))\n",
    "print(sum(no)/len(no))"
   ]
  },
  {
   "cell_type": "code",
   "execution_count": 31,
   "id": "a8e41231-da20-48ba-9177-59fd5ff602c8",
   "metadata": {},
   "outputs": [
    {
     "name": "stdout",
     "output_type": "stream",
     "text": [
      "['A', 'lot', 'of', 'spaces']\n"
     ]
    }
   ],
   "source": [
    "line = 'A lot    of spaces'\n",
    "etc = line.split()\n",
    "print(etc)"
   ]
  },
  {
   "cell_type": "code",
   "execution_count": 36,
   "id": "c2548a1d-5dc4-44fb-be07-591ae95389e8",
   "metadata": {},
   "outputs": [
    {
     "name": "stdout",
     "output_type": "stream",
     "text": [
      "[\"'Frist';\", \"'second';\", \"'third'\"]\n",
      "3\n"
     ]
    }
   ],
   "source": [
    "line = \"'Frist'; 'second'; 'third'\"\n",
    "th = line.split()\n",
    "print(th)\n",
    "print(len(th))"
   ]
  },
  {
   "cell_type": "code",
   "execution_count": 43,
   "id": "91c3efd4-bd1e-4a8a-b242-d4a3d92770f5",
   "metadata": {},
   "outputs": [
    {
     "name": "stdout",
     "output_type": "stream",
     "text": [
      "{'money': 12, 'candy': 3, 'tissues': 75}\n"
     ]
    }
   ],
   "source": [
    "purse = dict()\n",
    "purse['money'] = 12\n",
    "purse['candy'] = 3\n",
    "purse['tissues'] = 75\n",
    "print(purse)"
   ]
  },
  {
   "cell_type": "code",
   "execution_count": 50,
   "id": "d3c3232e-8cee-4d5c-901b-e853ffff4a31",
   "metadata": {},
   "outputs": [],
   "source": [
    "import json"
   ]
  },
  {
   "cell_type": "code",
   "execution_count": null,
   "id": "28240fb5-eb5f-4673-ba75-2cde713d6f3d",
   "metadata": {},
   "outputs": [],
   "source": []
  },
  {
   "cell_type": "code",
   "execution_count": null,
   "id": "8e73e4cd-a5b1-4d7d-884b-dcd4e61af7ec",
   "metadata": {},
   "outputs": [],
   "source": []
  },
  {
   "cell_type": "code",
   "execution_count": 2,
   "id": "f5299932-c44c-470c-bb52-6fd2a7713346",
   "metadata": {},
   "outputs": [
    {
     "data": {
      "text/plain": [
       "list"
      ]
     },
     "execution_count": 2,
     "metadata": {},
     "output_type": "execute_result"
    }
   ],
   "source": [
    "type(x)"
   ]
  },
  {
   "cell_type": "code",
   "execution_count": 3,
   "id": "0ae16a04-5d50-4079-89c1-2a693bc4042c",
   "metadata": {},
   "outputs": [],
   "source": [
    "y = [1,2,3,4]"
   ]
  },
  {
   "cell_type": "code",
   "execution_count": 4,
   "id": "bd298171-6bd6-4e8f-9f15-3863c40dd339",
   "metadata": {},
   "outputs": [
    {
     "data": {
      "text/plain": [
       "list"
      ]
     },
     "execution_count": 4,
     "metadata": {},
     "output_type": "execute_result"
    }
   ],
   "source": [
    "type(y)"
   ]
  },
  {
   "cell_type": "code",
   "execution_count": 20,
   "id": "d27cc38b-b01e-4ceb-a817-53e590884f6a",
   "metadata": {},
   "outputs": [],
   "source": [
    "c = [2,3,4,[5,6,]]"
   ]
  },
  {
   "cell_type": "code",
   "execution_count": 25,
   "id": "02fb06ef-74ef-414d-bd1f-c71cd0226b1d",
   "metadata": {},
   "outputs": [
    {
     "data": {
      "text/plain": [
       "False"
      ]
     },
     "execution_count": 25,
     "metadata": {},
     "output_type": "execute_result"
    }
   ],
   "source": [
    "d = [1,2,3,4]\n",
    "8 in d"
   ]
  },
  {
   "cell_type": "code",
   "execution_count": 26,
   "id": "459a58e5-ee37-430f-8d3a-19be22206710",
   "metadata": {},
   "outputs": [
    {
     "name": "stdout",
     "output_type": "stream",
     "text": [
      "I can count to 1\n",
      "I can count to 2\n",
      "I can count to 3\n",
      "I can count to 4\n",
      "I can count to 5\n",
      "I can count to 6\n",
      "I can count to 7\n",
      "I can count to 8\n",
      "I can count to 9\n"
     ]
    }
   ],
   "source": [
    "for number in [1,2,3,4,5,6,7,8,9]:\n",
    "    print(\"I can count to\", number)"
   ]
  },
  {
   "cell_type": "markdown",
   "id": "7004f3f4-6840-41f6-9c66-e005c7d3d9ca",
   "metadata": {},
   "source": [
    "To recognize even no & odd no"
   ]
  },
  {
   "cell_type": "code",
   "execution_count": 29,
   "id": "2c64e4b1-3fc5-4edd-b07c-36096a6c338c",
   "metadata": {},
   "outputs": [
    {
     "name": "stdin",
     "output_type": "stream",
     "text": [
      " 5\n"
     ]
    },
    {
     "name": "stdout",
     "output_type": "stream",
     "text": [
      "odd\n"
     ]
    }
   ],
   "source": [
    "x = int(input())\n",
    "if x % 2 == 0:\n",
    "    print(\"Even\")\n",
    "else :\n",
    "    print(\"odd\")"
   ]
  },
  {
   "cell_type": "code",
   "execution_count": 84,
   "id": "345612fd-5f01-43d7-b3da-85f116eda770",
   "metadata": {},
   "outputs": [
    {
     "name": "stdout",
     "output_type": "stream",
     "text": [
      "[1, 2, 3, 4, 5, 6, 7, 8, 9, 10, 11, 12, 13, 14, 15, 16, 17, 18, 19, 20, 21, 22, 23, 24, 25, 26, 27, 28, 29, 30, 31, 32, 33, 34, 35, 36, 37, 38, 39, 40, 41, 42, 43, 44, 45, 46, 47, 48, 49, 50, 51, 52, 53, 54, 55, 56, 57, 58, 59, 60, 61, 62, 63, 64, 65, 66, 67, 68, 69, 70, 71, 72, 73, 74, 75, 76, 77, 78, 79, 80, 81, 82, 83, 84, 85, 86, 87, 88, 89, 90, 91, 92, 93, 94, 95, 96, 97, 98, 99]\n"
     ]
    }
   ],
   "source": [
    "#x = [3, 7, 9, 5, 15, 21, 27]\n",
    "x = list(range(1,100))\n",
    "print(x)"
   ]
  },
  {
   "cell_type": "code",
   "execution_count": 55,
   "id": "f997a283-0dbc-4585-a827-0b488ad4c690",
   "metadata": {},
   "outputs": [
    {
     "name": "stdout",
     "output_type": "stream",
     "text": [
      "[3, 5, 6, 9, 10, 12, 15, 18, 20, 21, 24, 25, 27, 30, 33, 35, 36, 39, 40, 42, 45, 48, 50, 51, 54, 55, 57, 60, 63, 65, 66, 69, 70, 72, 75, 78, 80, 81, 84, 85, 87, 90, 93, 95, 96, 99]\n"
     ]
    }
   ],
   "source": [
    "p = []\n",
    "for i in x:\n",
    "    if i % 3 == 0 or i % 5 == 0:\n",
    "        p.append(i)\n",
    "print(p)        "
   ]
  },
  {
   "cell_type": "code",
   "execution_count": 56,
   "id": "042e76c8-7bbc-47fb-b846-630fae706134",
   "metadata": {},
   "outputs": [
    {
     "name": "stdout",
     "output_type": "stream",
     "text": [
      "[99, 98, 97, 96, 95, 94, 93, 92, 91, 90, 89, 88, 87, 86, 85, 84, 83, 82, 81, 80, 79, 78, 77, 76, 75, 74, 73, 72, 71, 70, 69, 68, 67, 66, 65, 64, 63, 62, 61, 60, 59, 58, 57, 56, 55, 54, 53, 52, 51, 50, 49, 48, 47, 46, 45, 44, 43, 42, 41, 40, 39, 38, 37, 36, 35, 34, 33, 32, 31, 30, 29, 28, 27, 26, 25, 24, 23, 22, 21, 20, 19, 18, 17, 16, 15, 14, 13, 12, 11, 10, 9, 8, 7, 6, 5, 4, 3, 2, 1]\n"
     ]
    }
   ],
   "source": [
    "#print(x[::-1])"
   ]
  },
  {
   "cell_type": "code",
   "execution_count": 88,
   "id": "76660057-8692-42e4-bc67-925068317f29",
   "metadata": {},
   "outputs": [
    {
     "name": "stdout",
     "output_type": "stream",
     "text": [
      "[99, 98, 97, 96, 95, 94, 93, 92, 91, 90, 89, 88, 87, 86, 85, 84, 83, 82, 81, 80, 79, 78, 77, 76, 75, 74, 73, 72, 71, 70, 69, 68, 67, 66, 65, 64, 63, 62, 61, 60, 59, 58, 57, 56, 55, 54, 53, 52, 51, 50, 49, 48, 47, 46, 45, 44, 43, 42, 41, 40, 39, 38, 37, 36, 35, 34, 33, 32, 31, 30, 29, 28, 27, 26, 25, 24, 23, 22, 21, 20, 19, 18, 17, 16, 15, 14, 13, 12, 11, 10, 9, 8, 7, 6, 5, 4, 3, 2, 1]\n"
     ]
    }
   ],
   "source": [
    "x.reverse()\n",
    "\n",
    "#print(x.reverse())\n",
    "print(x)"
   ]
  },
  {
   "cell_type": "code",
   "execution_count": 87,
   "id": "57ae65a1-5438-404b-a5a5-ef23f0a926a0",
   "metadata": {},
   "outputs": [
    {
     "name": "stdout",
     "output_type": "stream",
     "text": [
      "[1, 2, 3, 4, 5, 6]\n"
     ]
    }
   ],
   "source": [
    "g = [1,2,3,4,5,6]\n",
    "print(g)"
   ]
  },
  {
   "cell_type": "code",
   "execution_count": 74,
   "id": "ecc63065-c412-42b0-b5d7-112c9b31b777",
   "metadata": {},
   "outputs": [
    {
     "name": "stdout",
     "output_type": "stream",
     "text": [
      "[6, 5, 4, 3, 2, 1]\n"
     ]
    }
   ],
   "source": [
    "g.reverse()\n",
    "print(g)"
   ]
  },
  {
   "cell_type": "code",
   "execution_count": 5,
   "id": "b86cfbe4-7dee-4bfa-a4e0-372a22f14881",
   "metadata": {},
   "outputs": [
    {
     "name": "stdout",
     "output_type": "stream",
     "text": [
      "0\n",
      "15\n",
      "45\n",
      "90\n",
      "150\n",
      "225\n",
      "315\n"
     ]
    }
   ],
   "source": [
    "#print(list(range(1,100)))\n",
    "total = 0\n",
    "for i in range(1, 100):\n",
    "    if i % 3 == 0 and i % 5 == 0:\n",
    "        print(total)\n",
    "        total += i\n",
    "print(total)        "
   ]
  },
  {
   "cell_type": "code",
   "execution_count": 12,
   "id": "e4ce5359-7f1d-44e8-844e-aef3102cea86",
   "metadata": {},
   "outputs": [
    {
     "name": "stdout",
     "output_type": "stream",
     "text": [
      "0\n",
      "0\n",
      "5\n",
      "15\n",
      "30\n",
      "50\n",
      "75\n",
      "105\n",
      "140\n",
      "180\n",
      "225\n",
      "275\n",
      "330\n",
      "390\n",
      "455\n",
      "525\n",
      "600\n",
      "680\n",
      "765\n",
      "855\n",
      "950\n"
     ]
    }
   ],
   "source": [
    "total = 0\n",
    "for i in range(0,100):\n",
    "    if i % 5 == 0:\n",
    "        print(total)\n",
    "        total += i\n",
    "print(total)        "
   ]
  },
  {
   "cell_type": "markdown",
   "id": "d533a21e-917d-4713-b2cb-4fc1230901d8",
   "metadata": {},
   "source": [
    "addition all positive number in list\n"
   ]
  },
  {
   "cell_type": "code",
   "execution_count": 11,
   "id": "ab533e5b-afed-48a3-b621-5be41c09d1ac",
   "metadata": {},
   "outputs": [
    {
     "name": "stdout",
     "output_type": "stream",
     "text": [
      "-10\n"
     ]
    }
   ],
   "source": [
    "g = [5,4,4,3,1,-2,-3,-5]\n",
    "total = 0\n",
    "i = len(g) - 1\n",
    "\n",
    "while g[i] <= 0:\n",
    "    total += g[i]\n",
    "    i -= 1\n",
    "print(total)    "
   ]
  },
  {
   "cell_type": "code",
   "execution_count": null,
   "id": "608aee75-3ebc-4214-a747-c1b0cd5ba0d1",
   "metadata": {},
   "outputs": [],
   "source": []
  }
 ],
 "metadata": {
  "kernelspec": {
   "display_name": "Python 3 (ipykernel)",
   "language": "python",
   "name": "python3"
  },
  "language_info": {
   "codemirror_mode": {
    "name": "ipython",
    "version": 3
   },
   "file_extension": ".py",
   "mimetype": "text/x-python",
   "name": "python",
   "nbconvert_exporter": "python",
   "pygments_lexer": "ipython3",
   "version": "3.9.13"
  }
 },
 "nbformat": 4,
 "nbformat_minor": 5
}
